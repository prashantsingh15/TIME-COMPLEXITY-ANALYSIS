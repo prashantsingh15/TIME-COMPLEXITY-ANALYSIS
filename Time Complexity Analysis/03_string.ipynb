{
 "cells": [
  {
   "cell_type": "code",
   "execution_count": null,
   "metadata": {},
   "outputs": [],
   "source": [
    "\n",
    "\n",
    "\n",
    "def isSubSequence(string1, string2, m, n):\n",
    "\t# Base Cases\n",
    "    if string1\n",
    "\n",
    "        \n",
    "\n",
    "\n",
    "\t# If last characters of two\n",
    "\t# strings are matching\n",
    "\tif string1[m-1] == string2[n-1]:\n",
    "\t\treturn isSubSequence(string1, string2, m-1, n-1)\n",
    "\n",
    "\t# If last characters are not matching\n",
    "\treturn isSubSequence(string1, string2, m-1, n-1)\n",
    "\n",
    "\n",
    "# Driver program to test the above function\n",
    "string1 = \"abchjsgsuohhdhyrikkknddg\"\n",
    "string2 = \"coding\"\n",
    "\n",
    "if isSubSequence(string1, string2, len(string1), len(string2)):\n",
    "\tprint (\"Yes\")\n",
    "else:\n",
    "\tprint (\"No\")"
   ]
  },
  {
   "cell_type": "code",
   "execution_count": null,
   "metadata": {},
   "outputs": [],
   "source": [
    "\n",
    "def Spilt(n, a):\n",
    "\n",
    "\tSum = 0\n",
    "\tc1 = 0\n",
    "\n",
    "\n",
    "\tfor i in range(n):\n",
    "\t\tSum += a[i]\n",
    "\n",
    "\t\tif (a[i] == 1):\n",
    "\t\t\tc1 += 1\n",
    "\n",
    "\t\n",
    "\tif (Sum % 2):\n",
    "\t\treturn False\n",
    "\n",
    "\tif ((Sum // 2) % 2 == 0):\n",
    "\t\treturn True\n",
    "\n",
    "\n",
    "\tif (c1 > 0):\n",
    "\t\treturn True\n",
    "\telse:\n",
    "\t\treturn False\n",
    "\n",
    "n = input()\n",
    "arr = [int(ele) for ele in input().split()]\n",
    "ans = Spilt(arr,0)\n",
    "\n",
    "if ans is True:\n",
    "    print('true')\n",
    "else:\n",
    "    print('false')\n",
    "\n"
   ]
  },
  {
   "cell_type": "code",
   "execution_count": 18,
   "metadata": {},
   "outputs": [
    {
     "name": "stdout",
     "output_type": "stream",
     "text": [
      "true\n"
     ]
    }
   ],
   "source": [
    "\n",
    "def helper(arr, n, start, lsum, rsum):\n",
    "\n",
    "\t\n",
    "\tif (start == n):\n",
    "\t\treturn lsum == rsum\n",
    "\n",
    "\t# If divisible by 5 then add\n",
    "\t# to the left sum\n",
    "\tif (arr[start] % 5 == 0):\n",
    "\t\tlsum += arr[start]\n",
    "\n",
    "\t# If divisible by 3 but not by 5\n",
    "\t# then add to the right sum\n",
    "\telif (arr[start] % 3 == 0):\n",
    "\t\trsum += arr[start]\n",
    "\n",
    "\t# Else it can be added to any of\n",
    "\t# the sub-arrays\n",
    "\telse:\n",
    "\n",
    "\t\t\n",
    "\t\treturn (helper(arr, n, start + 1,\n",
    "\t\t\t\tlsum + arr[start], rsum) or\n",
    "\t\t\t\thelper(arr, n, start + 1,\n",
    "\t\t\t\tlsum, rsum + arr[start]));\n",
    "\n",
    "\t# For cases when element is multiple of 3 or 5.\n",
    "\treturn helper(arr, n, start + 1, lsum, rsum)\n",
    "\n",
    "# Function to start the recursive calls\n",
    "def splitArray(arr, n,sum):\n",
    "\t\n",
    "\t# Initially start, lsum and rsum\n",
    "\t# will all be 0\n",
    "\treturn helper(arr, n, 0, 0, 0)\n",
    "\n",
    "# Driver code\n",
    "if __name__ == \"__main__\":\n",
    "\n",
    "        \n",
    "    n = input()\n",
    "    arr = [int(ele) for ele in input().split()]\n",
    "    ans = helper(arr,0,0,0,0)\n",
    "\n",
    "    if ans is True:\n",
    "      print('true')\n",
    "    else:\n",
    "        print('false')\n",
    "\t\n",
    "\n",
    "\n",
    "\n",
    "\n"
   ]
  }
 ],
 "metadata": {
  "kernelspec": {
   "display_name": "Python 3.9.12 ('base')",
   "language": "python",
   "name": "python3"
  },
  "language_info": {
   "codemirror_mode": {
    "name": "ipython",
    "version": 3
   },
   "file_extension": ".py",
   "mimetype": "text/x-python",
   "name": "python",
   "nbconvert_exporter": "python",
   "pygments_lexer": "ipython3",
   "version": "3.9.12"
  },
  "orig_nbformat": 4,
  "vscode": {
   "interpreter": {
    "hash": "e4abcd0df340a594effa82bcbf617a3d481270f90641c881f508b0a532b65559"
   }
  }
 },
 "nbformat": 4,
 "nbformat_minor": 2
}
