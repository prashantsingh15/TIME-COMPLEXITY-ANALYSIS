{
 "cells": [
  {
   "cell_type": "code",
   "execution_count": null,
   "metadata": {},
   "outputs": [],
   "source": [
    "\n",
    "def tripletSum(arr, n, sum):\n",
    "\n",
    "\tfor i in range(0, n - 2):\n",
    "\t\tfor j in range(i + 1, n - 1):\n",
    "\t\t\tfor k in range(j + 1, n):\n",
    "\t\t\t\tif (arr[i] + arr[j] +\n",
    "\t\t\t\t\tarr[k] == sum):\n",
    "\t\t\t\t\tprint(arr[i], \" \",\n",
    "\t\t\t\t\t\tarr[j], \" \",\n",
    "\t\t\t\t\t\tarr[k], sep = \"\")\n",
    "\t\t\t\n",
    "\n",
    "arr = [ 0, -1, 2, -3, 1 ]\n",
    "n = len(arr)\n",
    "tripletSum(arr, n, -2)\n",
    "\n",
    "\n",
    "\n"
   ]
  }
 ],
 "metadata": {
  "language_info": {
   "name": "python"
  },
  "orig_nbformat": 4
 },
 "nbformat": 4,
 "nbformat_minor": 2
}
