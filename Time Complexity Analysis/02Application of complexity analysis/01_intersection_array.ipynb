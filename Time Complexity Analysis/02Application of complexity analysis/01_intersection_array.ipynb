{
 "cells": [
  {
   "cell_type": "code",
   "execution_count": 1,
   "metadata": {},
   "outputs": [],
   "source": [
    "from sys import stdin\n",
    "\n",
    "def intersections(arr1,arr2,n,m):\n",
    "    arr1.sort()\n",
    "    arr2.sort()\n",
    "    i,j=0,0\n",
    "    arr=[]\n",
    "\n",
    "    while i<n and j<m:\n",
    "        if arr1[i] < arr2[j]:\n",
    "            i +=1\n",
    "\n",
    "        if arr1[i]>arr2[j]:\n",
    "            j +=1\n",
    "\n",
    "        else:\n",
    "            arr.append(arr1[i])\n",
    "            i=i+1\n",
    "            j=j+1\n",
    "\n",
    "    for i in arr:\n",
    "        print(i,end=' ')\n",
    "\n",
    "\n"
   ]
  },
  {
   "cell_type": "code",
   "execution_count": 2,
   "metadata": {},
   "outputs": [
    {
     "name": "stdout",
     "output_type": "stream",
     "text": [
      "3 4 5 6 7 8 None\n"
     ]
    }
   ],
   "source": [
    "arr1=[2,3,4,5,6,7,8]\n",
    "arr2=[4,5,6,7,8,7,3]\n",
    "n=7\n",
    "m=7\n",
    "print(intersections(arr1,arr2,n,m))"
   ]
  },
  {
   "cell_type": "markdown",
   "metadata": {},
   "source": [
    "for i in arr1\n"
   ]
  },
  {
   "cell_type": "code",
   "execution_count": null,
   "metadata": {},
   "outputs": [],
   "source": []
  }
 ],
 "metadata": {
  "kernelspec": {
   "display_name": "Python 3 (ipykernel)",
   "language": "python",
   "name": "python3"
  },
  "language_info": {
   "codemirror_mode": {
    "name": "ipython",
    "version": 3
   },
   "file_extension": ".py",
   "mimetype": "text/x-python",
   "name": "python",
   "nbconvert_exporter": "python",
   "pygments_lexer": "ipython3",
   "version": "3.11.2"
  },
  "vscode": {
   "interpreter": {
    "hash": "e4abcd0df340a594effa82bcbf617a3d481270f90641c881f508b0a532b65559"
   }
  }
 },
 "nbformat": 4,
 "nbformat_minor": 2
}
